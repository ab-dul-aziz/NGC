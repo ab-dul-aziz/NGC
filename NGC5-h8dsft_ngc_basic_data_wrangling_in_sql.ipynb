{
 "cells": [
  {
   "cell_type": "markdown",
   "metadata": {},
   "source": [
    "``` sql\n",
    "CREATE TABLE customers(\n",
    "\tcustomer_id SERIAL PRIMARY KEY,\n",
    "\tcustomer_name VARCHAR(50),\n",
    "\tcity VARCHAR(50)\n",
    ");\n",
    "\n",
    "CREATE TABLE orders(\n",
    "\torder_id SERIAL PRIMARY KEY,\n",
    "\tcustomer_id SERIAL REFERENCES customers(customer_id),\n",
    "\torder_date DATE,\n",
    "\ttotal_amount DECIMAL\n",
    ");\n",
    "\n",
    "INSERT INTO customers(customer_name, city)\n",
    "VALUES\n",
    "\t('John Doe', 'New York'),\n",
    "\t('Jane Smith', 'Los Angeles'),\n",
    "\t('David Johnson', 'Chicago');\n",
    "\n",
    "INSERT INTO orders(customer_id, order_date, total_amount)\n",
    "VALUES\n",
    "\t(1, '2022-01-10', 100.00),\n",
    "\t(1, '2022-02-15', 150.00),\n",
    "\t(2, '2022-03-20', 200.00),\n",
    "\t(3, '2022-04-25', 50.00);\n",
    "\n",
    "SELECT \n",
    "\tcustomer_name,\n",
    "\tCOUNT(o.customer_id) AS total_orders\n",
    "FROM customers AS c\n",
    "LEFT JOIN orders AS o\n",
    "\tON c.customer_id = o.customer_id\n",
    "GROUP BY c.customer_name;\n",
    "```"
   ]
  }
 ],
 "metadata": {
  "language_info": {
   "name": "python"
  }
 },
 "nbformat": 4,
 "nbformat_minor": 2
}

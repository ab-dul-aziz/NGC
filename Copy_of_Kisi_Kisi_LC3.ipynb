{
  "nbformat": 4,
  "nbformat_minor": 0,
  "metadata": {
    "colab": {
      "provenance": [],
      "include_colab_link": true
    },
    "kernelspec": {
      "name": "python3",
      "display_name": "Python 3"
    },
    "language_info": {
      "name": "python"
    }
  },
  "cells": [
    {
      "cell_type": "markdown",
      "metadata": {
        "id": "view-in-github",
        "colab_type": "text"
      },
      "source": [
        "<a href=\"https://colab.research.google.com/github/ab-dul-aziz/NGC/blob/main/Copy_of_Kisi_Kisi_LC3.ipynb\" target=\"_parent\"><img src=\"https://colab.research.google.com/assets/colab-badge.svg\" alt=\"Open In Colab\"/></a>"
      ]
    },
    {
      "cell_type": "markdown",
      "source": [
        "Perusahaan peminjaman sepeda di San Fransisco memintamu untuk menganalisa durasi perjalanan customer mereka. Untuk memudahkan analisa, lakukan hal-hal berikut ini:\n",
        "\n",
        "## **STATISTIK DESKRIPTIF**\n",
        "\n",
        "1. Lakukan perhitungan central tendency (mean, median, dan modus).\n",
        "2. Lakukan pengecekan dispersi (standar deviasi, variance, dan range).\n",
        "3. Lakukan pengecekan skewness dan kurtosis.\n",
        "3. Analisa apakah ada data outlier berdasarkan sebaran datanya.\n",
        "4. Cari tahu berapa persentase outlier terhadap data keseluruhan.\n",
        "5. Bagaimana perubahan pemusatan data sebelum dan sesudah penghapusan outlier?\n",
        "\n",
        "## **API**\n",
        "\n",
        "Buatlah API untuk:\n",
        "- `Menampilkan` seluruh entry data setelah dilakukan handling outlier.\n",
        "- `Menghapus` entry data, dari data yang telah dihandling outlier.\n",
        "\n",
        "clue:\n",
        "- Load data csv yang sudah diolah dengan pandas, kemudian konversi data ke dictionary `df.to_dict()` atau json `df.to_json()` untuk dapat diolah lebih lanjut dengan API menggunakan FastAPI.\n",
        "- Pembuatan API dilakukan pada script `.py`\n",
        "- Endpoint dan penamaan function pada API dibebaskan.\n",
        "\n",
        "\n",
        "---\n",
        "\n",
        "\n",
        "\n",
        "Data dapat diakses dari BigQuery dengan ketentuan:\n",
        "\n",
        "- Project_id: `bigquery-public-data`\n",
        "- Dataset: `san_francisco_bikeshare`\n",
        "- Table: `bikeshare_trips`\n",
        "- Ambil hanya kolom `duration_sec` saja\n",
        "- Berikan LIMIT pada data yang diambil sebesar 3000 entry data\n",
        "\n",
        "Koneksikan data di atas menggunakan `BigQuery` ke Google Colab dengan code berikut:\n",
        "```py\n",
        "from google.colab import auth\n",
        "from google.cloud import bigquery\n",
        "auth.authenticate_user()\n",
        "print('Authenticated')\n",
        "\n",
        "project_id = \"rock-wonder-317907\" #GUNAKAN GCP PROJECT-ID KALIAN MASING-MASING\n",
        "client = bigquery.Client(project=project_id)\n",
        "```\n",
        "\n",
        "Untuk melakukan Query menggunakan cara ini, kamu dapat menggunakan method `client.query('Masukkan Querynya').to_dataframe()`. Outputnya akan berupa Pandas dataframe, sehingga harus import Pandas.\n",
        "\n",
        "Contoh:\n",
        "\n",
        "```py\n",
        "df = client.query('''\n",
        "SELECT *\n",
        "FROM `bigquery-public-data.thelook_ecommerce.orders`\n",
        "WHERE created_at < \"2022-07-01\"\n",
        "ORDER BY year,month ASC\n",
        "''').to_dataframe()\n",
        "```\n",
        "\n"
      ],
      "metadata": {
        "id": "e0E_A5aDbO7r"
      }
    },
    {
      "cell_type": "code",
      "source": [
        "# Working area\n",
        "from google.colab import auth\n",
        "from google.cloud import bigquery\n",
        "import pandas as pd\n",
        "import matplotlib.pyplot as plt\n",
        "import plotly.express as px\n",
        "\n",
        "auth.authenticate_user()\n",
        "print('Authenticated')\n",
        "\n",
        "project_id = \"hacktiv8-438003\" #GUNAKAN GCP PROJECT-ID KALIAN MASING-MASING\n",
        "client = bigquery.Client(project=project_id)"
      ],
      "metadata": {
        "id": "stLFk77dk8Ek",
        "colab": {
          "base_uri": "https://localhost:8080/"
        },
        "outputId": "727ec764-ab20-43ec-cf3f-8218b5acd455"
      },
      "execution_count": 65,
      "outputs": [
        {
          "output_type": "stream",
          "name": "stdout",
          "text": [
            "Authenticated\n"
          ]
        }
      ]
    },
    {
      "cell_type": "code",
      "source": [
        "df = client.query('''\n",
        "SELECT duration_sec\n",
        "FROM `bigquery-public-data.san_francisco_bikeshare.bikeshare_trips`\n",
        "LIMIT 3000;\n",
        "''').to_dataframe()\n",
        "\n",
        "df.head()"
      ],
      "metadata": {
        "colab": {
          "base_uri": "https://localhost:8080/",
          "height": 206
        },
        "id": "ybyFcHK0Npoz",
        "outputId": "f439edbc-e37b-4e84-8978-354d8776b5e7"
      },
      "execution_count": 12,
      "outputs": [
        {
          "output_type": "execute_result",
          "data": {
            "text/plain": [
              "   duration_sec\n",
              "0           788\n",
              "1           560\n",
              "2           965\n",
              "3           497\n",
              "4           489"
            ],
            "text/html": [
              "\n",
              "  <div id=\"df-15181fcb-0560-42cf-8259-a12410e3c8ad\" class=\"colab-df-container\">\n",
              "    <div>\n",
              "<style scoped>\n",
              "    .dataframe tbody tr th:only-of-type {\n",
              "        vertical-align: middle;\n",
              "    }\n",
              "\n",
              "    .dataframe tbody tr th {\n",
              "        vertical-align: top;\n",
              "    }\n",
              "\n",
              "    .dataframe thead th {\n",
              "        text-align: right;\n",
              "    }\n",
              "</style>\n",
              "<table border=\"1\" class=\"dataframe\">\n",
              "  <thead>\n",
              "    <tr style=\"text-align: right;\">\n",
              "      <th></th>\n",
              "      <th>duration_sec</th>\n",
              "    </tr>\n",
              "  </thead>\n",
              "  <tbody>\n",
              "    <tr>\n",
              "      <th>0</th>\n",
              "      <td>788</td>\n",
              "    </tr>\n",
              "    <tr>\n",
              "      <th>1</th>\n",
              "      <td>560</td>\n",
              "    </tr>\n",
              "    <tr>\n",
              "      <th>2</th>\n",
              "      <td>965</td>\n",
              "    </tr>\n",
              "    <tr>\n",
              "      <th>3</th>\n",
              "      <td>497</td>\n",
              "    </tr>\n",
              "    <tr>\n",
              "      <th>4</th>\n",
              "      <td>489</td>\n",
              "    </tr>\n",
              "  </tbody>\n",
              "</table>\n",
              "</div>\n",
              "    <div class=\"colab-df-buttons\">\n",
              "\n",
              "  <div class=\"colab-df-container\">\n",
              "    <button class=\"colab-df-convert\" onclick=\"convertToInteractive('df-15181fcb-0560-42cf-8259-a12410e3c8ad')\"\n",
              "            title=\"Convert this dataframe to an interactive table.\"\n",
              "            style=\"display:none;\">\n",
              "\n",
              "  <svg xmlns=\"http://www.w3.org/2000/svg\" height=\"24px\" viewBox=\"0 -960 960 960\">\n",
              "    <path d=\"M120-120v-720h720v720H120Zm60-500h600v-160H180v160Zm220 220h160v-160H400v160Zm0 220h160v-160H400v160ZM180-400h160v-160H180v160Zm440 0h160v-160H620v160ZM180-180h160v-160H180v160Zm440 0h160v-160H620v160Z\"/>\n",
              "  </svg>\n",
              "    </button>\n",
              "\n",
              "  <style>\n",
              "    .colab-df-container {\n",
              "      display:flex;\n",
              "      gap: 12px;\n",
              "    }\n",
              "\n",
              "    .colab-df-convert {\n",
              "      background-color: #E8F0FE;\n",
              "      border: none;\n",
              "      border-radius: 50%;\n",
              "      cursor: pointer;\n",
              "      display: none;\n",
              "      fill: #1967D2;\n",
              "      height: 32px;\n",
              "      padding: 0 0 0 0;\n",
              "      width: 32px;\n",
              "    }\n",
              "\n",
              "    .colab-df-convert:hover {\n",
              "      background-color: #E2EBFA;\n",
              "      box-shadow: 0px 1px 2px rgba(60, 64, 67, 0.3), 0px 1px 3px 1px rgba(60, 64, 67, 0.15);\n",
              "      fill: #174EA6;\n",
              "    }\n",
              "\n",
              "    .colab-df-buttons div {\n",
              "      margin-bottom: 4px;\n",
              "    }\n",
              "\n",
              "    [theme=dark] .colab-df-convert {\n",
              "      background-color: #3B4455;\n",
              "      fill: #D2E3FC;\n",
              "    }\n",
              "\n",
              "    [theme=dark] .colab-df-convert:hover {\n",
              "      background-color: #434B5C;\n",
              "      box-shadow: 0px 1px 3px 1px rgba(0, 0, 0, 0.15);\n",
              "      filter: drop-shadow(0px 1px 2px rgba(0, 0, 0, 0.3));\n",
              "      fill: #FFFFFF;\n",
              "    }\n",
              "  </style>\n",
              "\n",
              "    <script>\n",
              "      const buttonEl =\n",
              "        document.querySelector('#df-15181fcb-0560-42cf-8259-a12410e3c8ad button.colab-df-convert');\n",
              "      buttonEl.style.display =\n",
              "        google.colab.kernel.accessAllowed ? 'block' : 'none';\n",
              "\n",
              "      async function convertToInteractive(key) {\n",
              "        const element = document.querySelector('#df-15181fcb-0560-42cf-8259-a12410e3c8ad');\n",
              "        const dataTable =\n",
              "          await google.colab.kernel.invokeFunction('convertToInteractive',\n",
              "                                                    [key], {});\n",
              "        if (!dataTable) return;\n",
              "\n",
              "        const docLinkHtml = 'Like what you see? Visit the ' +\n",
              "          '<a target=\"_blank\" href=https://colab.research.google.com/notebooks/data_table.ipynb>data table notebook</a>'\n",
              "          + ' to learn more about interactive tables.';\n",
              "        element.innerHTML = '';\n",
              "        dataTable['output_type'] = 'display_data';\n",
              "        await google.colab.output.renderOutput(dataTable, element);\n",
              "        const docLink = document.createElement('div');\n",
              "        docLink.innerHTML = docLinkHtml;\n",
              "        element.appendChild(docLink);\n",
              "      }\n",
              "    </script>\n",
              "  </div>\n",
              "\n",
              "\n",
              "<div id=\"df-f4f7e575-7b4d-4d6d-893a-cc03ca96dabe\">\n",
              "  <button class=\"colab-df-quickchart\" onclick=\"quickchart('df-f4f7e575-7b4d-4d6d-893a-cc03ca96dabe')\"\n",
              "            title=\"Suggest charts\"\n",
              "            style=\"display:none;\">\n",
              "\n",
              "<svg xmlns=\"http://www.w3.org/2000/svg\" height=\"24px\"viewBox=\"0 0 24 24\"\n",
              "     width=\"24px\">\n",
              "    <g>\n",
              "        <path d=\"M19 3H5c-1.1 0-2 .9-2 2v14c0 1.1.9 2 2 2h14c1.1 0 2-.9 2-2V5c0-1.1-.9-2-2-2zM9 17H7v-7h2v7zm4 0h-2V7h2v10zm4 0h-2v-4h2v4z\"/>\n",
              "    </g>\n",
              "</svg>\n",
              "  </button>\n",
              "\n",
              "<style>\n",
              "  .colab-df-quickchart {\n",
              "      --bg-color: #E8F0FE;\n",
              "      --fill-color: #1967D2;\n",
              "      --hover-bg-color: #E2EBFA;\n",
              "      --hover-fill-color: #174EA6;\n",
              "      --disabled-fill-color: #AAA;\n",
              "      --disabled-bg-color: #DDD;\n",
              "  }\n",
              "\n",
              "  [theme=dark] .colab-df-quickchart {\n",
              "      --bg-color: #3B4455;\n",
              "      --fill-color: #D2E3FC;\n",
              "      --hover-bg-color: #434B5C;\n",
              "      --hover-fill-color: #FFFFFF;\n",
              "      --disabled-bg-color: #3B4455;\n",
              "      --disabled-fill-color: #666;\n",
              "  }\n",
              "\n",
              "  .colab-df-quickchart {\n",
              "    background-color: var(--bg-color);\n",
              "    border: none;\n",
              "    border-radius: 50%;\n",
              "    cursor: pointer;\n",
              "    display: none;\n",
              "    fill: var(--fill-color);\n",
              "    height: 32px;\n",
              "    padding: 0;\n",
              "    width: 32px;\n",
              "  }\n",
              "\n",
              "  .colab-df-quickchart:hover {\n",
              "    background-color: var(--hover-bg-color);\n",
              "    box-shadow: 0 1px 2px rgba(60, 64, 67, 0.3), 0 1px 3px 1px rgba(60, 64, 67, 0.15);\n",
              "    fill: var(--button-hover-fill-color);\n",
              "  }\n",
              "\n",
              "  .colab-df-quickchart-complete:disabled,\n",
              "  .colab-df-quickchart-complete:disabled:hover {\n",
              "    background-color: var(--disabled-bg-color);\n",
              "    fill: var(--disabled-fill-color);\n",
              "    box-shadow: none;\n",
              "  }\n",
              "\n",
              "  .colab-df-spinner {\n",
              "    border: 2px solid var(--fill-color);\n",
              "    border-color: transparent;\n",
              "    border-bottom-color: var(--fill-color);\n",
              "    animation:\n",
              "      spin 1s steps(1) infinite;\n",
              "  }\n",
              "\n",
              "  @keyframes spin {\n",
              "    0% {\n",
              "      border-color: transparent;\n",
              "      border-bottom-color: var(--fill-color);\n",
              "      border-left-color: var(--fill-color);\n",
              "    }\n",
              "    20% {\n",
              "      border-color: transparent;\n",
              "      border-left-color: var(--fill-color);\n",
              "      border-top-color: var(--fill-color);\n",
              "    }\n",
              "    30% {\n",
              "      border-color: transparent;\n",
              "      border-left-color: var(--fill-color);\n",
              "      border-top-color: var(--fill-color);\n",
              "      border-right-color: var(--fill-color);\n",
              "    }\n",
              "    40% {\n",
              "      border-color: transparent;\n",
              "      border-right-color: var(--fill-color);\n",
              "      border-top-color: var(--fill-color);\n",
              "    }\n",
              "    60% {\n",
              "      border-color: transparent;\n",
              "      border-right-color: var(--fill-color);\n",
              "    }\n",
              "    80% {\n",
              "      border-color: transparent;\n",
              "      border-right-color: var(--fill-color);\n",
              "      border-bottom-color: var(--fill-color);\n",
              "    }\n",
              "    90% {\n",
              "      border-color: transparent;\n",
              "      border-bottom-color: var(--fill-color);\n",
              "    }\n",
              "  }\n",
              "</style>\n",
              "\n",
              "  <script>\n",
              "    async function quickchart(key) {\n",
              "      const quickchartButtonEl =\n",
              "        document.querySelector('#' + key + ' button');\n",
              "      quickchartButtonEl.disabled = true;  // To prevent multiple clicks.\n",
              "      quickchartButtonEl.classList.add('colab-df-spinner');\n",
              "      try {\n",
              "        const charts = await google.colab.kernel.invokeFunction(\n",
              "            'suggestCharts', [key], {});\n",
              "      } catch (error) {\n",
              "        console.error('Error during call to suggestCharts:', error);\n",
              "      }\n",
              "      quickchartButtonEl.classList.remove('colab-df-spinner');\n",
              "      quickchartButtonEl.classList.add('colab-df-quickchart-complete');\n",
              "    }\n",
              "    (() => {\n",
              "      let quickchartButtonEl =\n",
              "        document.querySelector('#df-f4f7e575-7b4d-4d6d-893a-cc03ca96dabe button');\n",
              "      quickchartButtonEl.style.display =\n",
              "        google.colab.kernel.accessAllowed ? 'block' : 'none';\n",
              "    })();\n",
              "  </script>\n",
              "</div>\n",
              "\n",
              "    </div>\n",
              "  </div>\n"
            ],
            "application/vnd.google.colaboratory.intrinsic+json": {
              "type": "dataframe",
              "variable_name": "df",
              "summary": "{\n  \"name\": \"df\",\n  \"rows\": 3000,\n  \"fields\": [\n    {\n      \"column\": \"duration_sec\",\n      \"properties\": {\n        \"dtype\": \"Int64\",\n        \"num_unique_values\": 1181,\n        \"samples\": [\n          1167,\n          790,\n          114\n        ],\n        \"semantic_type\": \"\",\n        \"description\": \"\"\n      }\n    }\n  ]\n}"
            }
          },
          "metadata": {},
          "execution_count": 12
        }
      ]
    },
    {
      "cell_type": "markdown",
      "source": [
        "## Statistik Deskriptif"
      ],
      "metadata": {
        "id": "EtzEK30MQzCB"
      }
    },
    {
      "cell_type": "markdown",
      "source": [
        "### 1. Lakukan perhitungan central tendency (mean, median, dan modus)."
      ],
      "metadata": {
        "id": "RmKhzEPJQ8Jz"
      }
    },
    {
      "cell_type": "code",
      "source": [
        "mean = df.duration_sec.mean()\n",
        "median = df.duration_sec.median()\n",
        "mode = df.duration_sec.mode().values[0]\n",
        "\n",
        "print(f'''\n",
        "Mean: {mean}\n",
        "Median: {median}\n",
        "Mode: {mode}\n",
        "''')"
      ],
      "metadata": {
        "colab": {
          "base_uri": "https://localhost:8080/"
        },
        "id": "-pdOmduqQ7W2",
        "outputId": "eaf411a3-4583-4af7-8f19-dc765d4ebd0b"
      },
      "execution_count": 26,
      "outputs": [
        {
          "output_type": "stream",
          "name": "stdout",
          "text": [
            "\n",
            "Mean: 816.415\n",
            "Median: 501.0\n",
            "Mode: 325\n",
            "\n"
          ]
        }
      ]
    },
    {
      "cell_type": "markdown",
      "source": [
        "### 2. Lakukan pengecekan dispersi (standar deviasi, variance, dan range)."
      ],
      "metadata": {
        "id": "ispBgg5bSp3b"
      }
    },
    {
      "cell_type": "code",
      "source": [
        "std_dev = df.duration_sec.std()\n",
        "variance = df.duration_sec.var()\n",
        "range = df.duration_sec.max() - df.duration_sec.min()\n",
        "\n",
        "print(f'''\n",
        "Standar Deviasi: {std_dev:.4f}\n",
        "Variance: {variance:.4f}\n",
        "Range: {range}\n",
        "''')\n"
      ],
      "metadata": {
        "colab": {
          "base_uri": "https://localhost:8080/"
        },
        "id": "cG3jMxyzR6kT",
        "outputId": "39e48f91-6998-4b68-c037-5fba6e7a8eeb"
      },
      "execution_count": 35,
      "outputs": [
        {
          "output_type": "stream",
          "name": "stdout",
          "text": [
            "\n",
            "Standar Deviasi: 2873.9985\n",
            "Variance: 8259867.6620\n",
            "Range: 67486\n",
            "\n"
          ]
        }
      ]
    },
    {
      "cell_type": "markdown",
      "source": [
        "### 3. Lakukan pengecekan skewness dan kurtosis."
      ],
      "metadata": {
        "id": "4wxcTQ53UEYG"
      }
    },
    {
      "cell_type": "code",
      "source": [
        "skewness = df.duration_sec.skew()\n",
        "kurtosis = df.duration_sec.kurt()\n",
        "\n",
        "print(f'''\n",
        "Skewness: {skewness:.4f}\n",
        "Kurtosis: {kurtosis:.4f}\n",
        "''')"
      ],
      "metadata": {
        "colab": {
          "base_uri": "https://localhost:8080/"
        },
        "id": "ZFZtZQd1UJrn",
        "outputId": "59a1e375-7f1b-4598-e3ce-3de32c98a23d"
      },
      "execution_count": 38,
      "outputs": [
        {
          "output_type": "stream",
          "name": "stdout",
          "text": [
            "\n",
            "Skewness: 18.8280\n",
            "Kurtosis: 390.1668\n",
            "\n"
          ]
        }
      ]
    },
    {
      "cell_type": "markdown",
      "source": [
        "### 4. Analisa apakah ada data outlier berdasarkan sebaran datanya."
      ],
      "metadata": {
        "id": "rqIT9AaRUl63"
      }
    },
    {
      "cell_type": "code",
      "source": [
        "fig, ax = plt.subplots(ncols=2,figsize=(10,4))\n",
        "\n",
        "df.duration_sec.plot(kind='hist',bins=20,ax=ax[0])\n",
        "df.duration_sec.plot(kind='box',ax=ax[1])"
      ],
      "metadata": {
        "colab": {
          "base_uri": "https://localhost:8080/",
          "height": 388
        },
        "id": "CAm903hjUqO_",
        "outputId": "2f0b4d52-ff0e-4f39-8360-0abeb0e1cc2a"
      },
      "execution_count": 40,
      "outputs": [
        {
          "output_type": "execute_result",
          "data": {
            "text/plain": [
              "<Axes: >"
            ]
          },
          "metadata": {},
          "execution_count": 40
        },
        {
          "output_type": "display_data",
          "data": {
            "text/plain": [
              "<Figure size 1000x400 with 2 Axes>"
            ],
            "image/png": "[encoded data removed]"
          },
          "metadata": {}
        }
      ]
    },
    {
      "cell_type": "markdown",
      "source": [
        "### 5. Cari tahu berapa persentase outlier terhadap data keseluruhan."
      ],
      "metadata": {
        "id": "V0YL8Cfhbt9Q"
      }
    },
    {
      "cell_type": "code",
      "source": [
        "q1 = df.duration_sec.quantile(0.25)\n",
        "q3 = df.duration_sec.quantile(0.75)\n",
        "iqr = q3-q1\n",
        "\n",
        "upbound = q3 + 1.5*iqr\n",
        "lowbound = q1 - 1.5*iqr\n",
        "\n",
        "print(f'''\n",
        "Upbound: {upbound:.4f}\n",
        "Lowbound: {lowbound:.4f}\n",
        "''')"
      ],
      "metadata": {
        "colab": {
          "base_uri": "https://localhost:8080/"
        },
        "id": "eIwvlygkVrZT",
        "outputId": "a77d53f0-5514-4d52-fd49-465ced116650"
      },
      "execution_count": 44,
      "outputs": [
        {
          "output_type": "stream",
          "name": "stdout",
          "text": [
            "\n",
            "Upbound: 1517.6250\n",
            "Lowbound: -403.3750\n",
            "\n"
          ]
        }
      ]
    },
    {
      "cell_type": "code",
      "source": [
        "outlier = df[(df['duration_sec'] > upbound) | (df['duration_sec'] < lowbound)]\n",
        "\n",
        "print(f'Outlier meliputi {len(outlier.duration_sec)*100/len(df.duration_sec):.2f}% dari keseluruhan data')"
      ],
      "metadata": {
        "colab": {
          "base_uri": "https://localhost:8080/"
        },
        "id": "qcCOsq14dJvX",
        "outputId": "1778e3cb-bcf1-4fe7-e32e-272ead956562"
      },
      "execution_count": 50,
      "outputs": [
        {
          "output_type": "stream",
          "name": "stdout",
          "text": [
            "Outlier meliputi 5.57% dari keseluruhan data\n"
          ]
        }
      ]
    },
    {
      "cell_type": "markdown",
      "source": [
        "### 6. Bagaimana perubahan pemusatan data sebelum dan sesudah penghapusan outlier?"
      ],
      "metadata": {
        "id": "5_tpihiuefo-"
      }
    },
    {
      "cell_type": "code",
      "source": [
        "no_outlier = df[(df['duration_sec'] <= upbound) & (df['duration_sec'] >= lowbound)]\n",
        "\n",
        "fig, ax = plt.subplots(ncols=2,figsize=(10,4))\n",
        "\n",
        "no_outlier.duration_sec.plot(kind='hist',bins=20,ax=ax[0])\n",
        "no_outlier.duration_sec.plot(kind='box',ax=ax[1])"
      ],
      "metadata": {
        "colab": {
          "base_uri": "https://localhost:8080/",
          "height": 386
        },
        "id": "fRl5zgQoepkm",
        "outputId": "2eb16976-ef50-47b5-e1bf-d31f896d8d8f"
      },
      "execution_count": 70,
      "outputs": [
        {
          "output_type": "execute_result",
          "data": {
            "text/plain": [
              "<Axes: >"
            ]
          },
          "metadata": {},
          "execution_count": 70
        },
        {
          "output_type": "display_data",
          "data": {
            "text/plain": [
              "<Figure size 1000x400 with 2 Axes>"
            ],
            "image/png": "[encoded data removed]"
          },
          "metadata": {}
        }
      ]
    },
    {
      "cell_type": "code",
      "source": [
        "mean_after = no_outlier.duration_sec.mean()\n",
        "median_after = no_outlier.duration_sec.median()\n",
        "mode_after = no_outlier.duration_sec.mode().values[0]\n",
        "\n",
        "print(f'''\n",
        "Mean: {mean_after:.2f}\n",
        "Median: {median_after}\n",
        "Mode: {mode_after}\n",
        "''')"
      ],
      "metadata": {
        "colab": {
          "base_uri": "https://localhost:8080/"
        },
        "id": "Et9JZqYNgSFX",
        "outputId": "768d7376-574d-474a-fc11-64b164ffe821"
      },
      "execution_count": 62,
      "outputs": [
        {
          "output_type": "stream",
          "name": "stdout",
          "text": [
            "\n",
            "Mean: 549.34\n",
            "Median: 481.0\n",
            "Mode: 325\n",
            "\n"
          ]
        }
      ]
    },
    {
      "cell_type": "code",
      "source": [
        "no_outlier.to_json('data_after_handling.csv')"
      ],
      "metadata": {
        "id": "JDjZSXT0prQq"
      },
      "execution_count": 73,
      "outputs": []
    }
  ]
}
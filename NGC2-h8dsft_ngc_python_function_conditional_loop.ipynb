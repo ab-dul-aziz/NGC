{
 "cells": [
  {
   "cell_type": "markdown",
   "metadata": {},
   "source": [
    "# Task 1 - Number of Word\n"
   ]
  },
  {
   "cell_type": "code",
   "execution_count": 117,
   "metadata": {},
   "outputs": [
    {
     "name": "stdout",
     "output_type": "stream",
     "text": [
      "8\n"
     ]
    }
   ],
   "source": [
    "def number_of_word(sentence):\n",
    "    '''Fungsi ini berguna untuk menghitung jumlah kata di dalam kalimat yang diberikan.\n",
    "\n",
    "    Parameter:\n",
    "    - sentence (str) -> kalimat yang ingin diketahui jumlah katanya\n",
    "    \n",
    "    Cara menggunakan:\n",
    "    input: number_of_word('Hello World!)\n",
    "    output: 2\n",
    "    '''\n",
    "    \n",
    "    # Split sentence berdasarkan space dan hitung jumlah kata\n",
    "    print(len(sentence.split()))        \n",
    "\n",
    "number_of_word('Once Upon a Time in a faraway land')"
   ]
  },
  {
   "cell_type": "markdown",
   "metadata": {},
   "source": [
    "# Task 2 - Find Multiple"
   ]
  },
  {
   "cell_type": "code",
   "execution_count": 110,
   "metadata": {},
   "outputs": [
    {
     "data": {
      "text/plain": [
       "[5, 10, 15, 20]"
      ]
     },
     "execution_count": 110,
     "metadata": {},
     "output_type": "execute_result"
    }
   ],
   "source": [
    "def find_multiples(start_range, end_range, multiple):\n",
    "    '''Fungsi ini berguna untuk mendapatkan list angka yang merupakan kelipatan angka tertentu.\n",
    "    \n",
    "    Parameter: \n",
    "    - start_range (int) ->  awal list angka\n",
    "    - end_range (int) -> akhir list angka\n",
    "    - multiple (int) -> kelipatan angka yang diinginkan\n",
    "\n",
    "    Cara menggunakan:\n",
    "    input: find_multiples(1, 50, 10)\n",
    "    output: [10, 20, 30, 40, 50]\n",
    "    '''\n",
    "    \n",
    "    list_number = []\n",
    "    # List semua angka dalam range yang diberikan\n",
    "    for num in range(start_range, end_range+1):\n",
    "        # Hanya masukkan angka yang habis dibagi multiple ke dalam list_number\n",
    "        if num % multiple == 0:\n",
    "            list_number.append(num)\n",
    "    \n",
    "    return list_number\n",
    "\n",
    "find_multiples(1, 20, 5)\n"
   ]
  },
  {
   "cell_type": "markdown",
   "metadata": {},
   "source": [
    "# Task 3 - Grade Converter"
   ]
  },
  {
   "cell_type": "code",
   "execution_count": 150,
   "metadata": {},
   "outputs": [
    {
     "data": {
      "text/plain": [
       "{'Albert': 'A', 'Dwi': 'B', 'Syahdan': 'D', 'Veronica': 'B'}"
      ]
     },
     "execution_count": 150,
     "metadata": {},
     "output_type": "execute_result"
    }
   ],
   "source": [
    "def grade_converter(convert_to, **students):\n",
    "    '''Fungsi ini berguna untuk mengubah score menjadi letter grade atau GPA\n",
    "\n",
    "    Parameter:\n",
    "    - convert_to (str) -> hanya menerima input letter_grade atau gpa\n",
    "    - students (dict) -> nama siswa beserta skornya\n",
    "\n",
    "    Cara menggunakan:\n",
    "    input: grade_converter('gpa', Adam = 62, Faiz = 91)\n",
    "    output: {'Adam': 2.5, 'Faiz': 4}\n",
    "\n",
    "    input: grade_converter('letter_grade', Albert = 90, Dwi = 82, Syahdan=58, Veronica=84)\n",
    "    output: {'Albert': 'A', 'Dwi': 'B', 'Syahdan': 'D', 'Veronica': 'B'}\n",
    "    '''\n",
    "    \n",
    "    # Buat iterasi untuk setiap nama di students\n",
    "    for name in students:\n",
    "        # Cek score untuk semua nama di students\n",
    "        score = students[name]\n",
    "\n",
    "        # Memastikan agar user input score dalam rentang 0 - 100\n",
    "        if score > 100 or score < 0:\n",
    "            print('Masukkan score siswa dalam rentang 0 - 100')\n",
    "            break\n",
    "        # Convert score ke dalam format gpa dan letter_grade sesuai table\n",
    "        elif 85 <= score <= 100:\n",
    "            gpa = 4\n",
    "            letter_grade = 'A'\n",
    "        elif score >= 70:\n",
    "            gpa = 3\n",
    "            letter_grade = 'B'\n",
    "        elif score >= 60:\n",
    "            gpa = 2.5\n",
    "            letter_grade = 'C'\n",
    "        elif score >= 50:\n",
    "            gpa = 2\n",
    "            letter_grade = 'D'\n",
    "        elif score >= 40:\n",
    "            gpa = 1.5\n",
    "            letter_grade = 'E'\n",
    "        elif score >= 0:\n",
    "            gpa = 1\n",
    "            letter_grade = 'F'\n",
    "        else:\n",
    "            print('Masukkan score siswa dalam rentang 0 - 100')\n",
    "        \n",
    "        # Convert ke format gpa\n",
    "        if convert_to.lower() == 'gpa':\n",
    "            students[name] = gpa\n",
    "        # Convert ke format letter_grade\n",
    "        elif convert_to.lower() == 'letter_grade':\n",
    "            students[name] = letter_grade\n",
    "        # Memastikan agar user hanya menginput antara gpa atau letter_grade\n",
    "        else:\n",
    "            print(\"Convert hanya bisa dilakukan ke 'gpa' atau 'letter_grade'\")\n",
    "            break\n",
    "    \n",
    "    return students\n",
    "\n",
    "grade_converter('letter_grade', Albert = 90, Dwi = 82, Syahdan=58, Veronica=84)"
   ]
  },
  {
   "cell_type": "markdown",
   "metadata": {},
   "source": [
    "# Task 4 - Fibonacci Sequence"
   ]
  },
  {
   "cell_type": "code",
   "execution_count": 116,
   "metadata": {},
   "outputs": [
    {
     "data": {
      "text/plain": [
       "55"
      ]
     },
     "execution_count": 116,
     "metadata": {},
     "output_type": "execute_result"
    }
   ],
   "source": [
    "def fibonacci(index):\n",
    "    '''Fungsi ini berguna untuk menampilkan nilai ke-n dari deret fibonacci (0, 1, 1, 2, 3, ....)\n",
    "\n",
    "    Parameter:\n",
    "    - index (int) -> bilangan ke-n dari deret fibonacci\n",
    "    \n",
    "    Cara menggunakan:\n",
    "    input: fibonacci(4)\n",
    "    output: 3\n",
    "\n",
    "    input: fibonaccti(10)\n",
    "    output: 55\n",
    "    '''\n",
    "    \n",
    "    # Mengassign n1 dan n2 deret fibonacci\n",
    "    num_0 = 0\n",
    "    num_1 = 1\n",
    "    list_fibo = [num_0, num_1]\n",
    "\n",
    "    # Lakukan perhitungan sampai bilangan ke-n yang diminta\n",
    "    while len(list_fibo) <= index:\n",
    "        # Masukkan hasil penjumlahan 2 angka sebelumnya ke list_fibo\n",
    "        list_fibo.append(num_0 + num_1)\n",
    "        # Assign variabel dengan menggunakan angka yang baru\n",
    "        num_0, num_1 = num_1, num_0 + num_1\n",
    "    return list_fibo[index]\n",
    "    \n",
    "\n",
    "fibonacci(10)\n"
   ]
  }
 ],
 "metadata": {
  "kernelspec": {
   "display_name": "base",
   "language": "python",
   "name": "python3"
  },
  "language_info": {
   "codemirror_mode": {
    "name": "ipython",
    "version": 3
   },
   "file_extension": ".py",
   "mimetype": "text/x-python",
   "name": "python",
   "nbconvert_exporter": "python",
   "pygments_lexer": "ipython3",
   "version": "3.12.4"
  }
 },
 "nbformat": 4,
 "nbformat_minor": 2
}
